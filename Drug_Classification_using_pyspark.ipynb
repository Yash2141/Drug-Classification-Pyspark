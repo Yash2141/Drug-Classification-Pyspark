{
  "cells": [
    {
      "cell_type": "markdown",
      "metadata": {
        "id": "eXj2nF-DIQFO"
      },
      "source": [
        "# Big Data Assignment (Classification)\n",
        "## Topic :- DrugTargetClassification\n",
        "##submitted To:- Bharti Motwani Ma'am\n",
        "##Submitted By:- Yash Rathore(MSc Data Science and Forcasting 2nd semester)\n"
      ]
    },
    {
      "cell_type": "code",
      "execution_count": 1,
      "metadata": {
        "colab": {
          "base_uri": "https://localhost:8080/"
        },
        "id": "-rbrPN8xFWI8",
        "outputId": "a111cb7d-d1b6-447f-df1b-928d8b2127d5"
      },
      "outputs": [
        {
          "name": "stdout",
          "output_type": "stream",
          "text": [
            "Requirement already satisfied: pyspark in /usr/local/lib/python3.7/dist-packages (3.2.1)\n",
            "Requirement already satisfied: py4j==0.10.9.3 in /usr/local/lib/python3.7/dist-packages (from pyspark) (0.10.9.3)\n"
          ]
        }
      ],
      "source": [
        "pip install pyspark"
      ]
    },
    {
      "cell_type": "code",
      "execution_count": 2,
      "metadata": {
        "id": "gD3NAb5EGCgy"
      },
      "outputs": [],
      "source": [
        "from pyspark.sql import SparkSession\n",
        "session=SparkSession.builder.appName(\"DrugTargetClassification\").getOrCreate()\n",
        "data= session.read.csv(\"drug200.csv\",header=True,inferSchema=True)\n",
        "# to upload data in file "
      ]
    },
    {
      "cell_type": "code",
      "execution_count": null,
      "metadata": {},
      "outputs": [],
      "source": []
    },
    {
      "cell_type": "code",
      "execution_count": 3,
      "metadata": {
        "colab": {
          "base_uri": "https://localhost:8080/"
        },
        "id": "yObA64elFvUc",
        "outputId": "4705763b-8472-4cb7-a892-e646465f0558"
      },
      "outputs": [
        {
          "name": "stdout",
          "output_type": "stream",
          "text": [
            "+---+---+------+-----------+-------+-----+\n",
            "|Age|Sex|    BP|Cholesterol|Na_to_K| Drug|\n",
            "+---+---+------+-----------+-------+-----+\n",
            "| 23|  F|  HIGH|       HIGH| 25.355|DrugY|\n",
            "| 47|  M|   LOW|       HIGH| 13.093|drugC|\n",
            "| 47|  M|   LOW|       HIGH| 10.114|drugC|\n",
            "| 28|  F|NORMAL|       HIGH|  7.798|drugX|\n",
            "| 61|  F|   LOW|       HIGH| 18.043|DrugY|\n",
            "+---+---+------+-----------+-------+-----+\n",
            "only showing top 5 rows\n",
            "\n"
          ]
        }
      ],
      "source": [
        "data.show(5)"
      ]
    },
    {
      "cell_type": "code",
      "execution_count": 4,
      "metadata": {
        "colab": {
          "base_uri": "https://localhost:8080/"
        },
        "id": "dEzlH75qcym-",
        "outputId": "7b960eed-ab91-45ad-fda9-14c902fcf4bd"
      },
      "outputs": [
        {
          "data": {
            "text/plain": [
              "['Age', 'Sex', 'BP', 'Cholesterol', 'Na_to_K', 'Drug']"
            ]
          },
          "execution_count": 4,
          "metadata": {},
          "output_type": "execute_result"
        }
      ],
      "source": [
        "data.columns"
      ]
    },
    {
      "cell_type": "code",
      "execution_count": 5,
      "metadata": {
        "colab": {
          "base_uri": "https://localhost:8080/"
        },
        "id": "0oplKt-dpj9R",
        "outputId": "5fa6724a-f3f2-4ba0-d814-d25538f15f78"
      },
      "outputs": [
        {
          "name": "stdout",
          "output_type": "stream",
          "text": [
            "root\n",
            " |-- Age: integer (nullable = true)\n",
            " |-- Sex: string (nullable = true)\n",
            " |-- BP: string (nullable = true)\n",
            " |-- Cholesterol: string (nullable = true)\n",
            " |-- Na_to_K: double (nullable = true)\n",
            " |-- Drug: string (nullable = true)\n",
            "\n"
          ]
        }
      ],
      "source": [
        "data.printSchema()"
      ]
    },
    {
      "cell_type": "code",
      "execution_count": 6,
      "metadata": {
        "colab": {
          "base_uri": "https://localhost:8080/"
        },
        "id": "dQdIOAHGp0CT",
        "outputId": "0797f36c-45d9-417e-cd23-56825243bf1e"
      },
      "outputs": [
        {
          "name": "stdout",
          "output_type": "stream",
          "text": [
            "+------------------+----+------+-----------+-----------------+-----+\n",
            "|               Age| Sex|    BP|Cholesterol|          Na_to_K| Drug|\n",
            "+------------------+----+------+-----------+-----------------+-----+\n",
            "|               200| 200|   200|        200|              200|  200|\n",
            "|            44.315|null|  null|       null|16.08448499999999| null|\n",
            "|16.544314634751974|null|  null|       null|7.223955528459517| null|\n",
            "|                15|   F|  HIGH|       HIGH|            6.269|DrugY|\n",
            "|                74|   M|NORMAL|     NORMAL|           38.247|drugX|\n",
            "+------------------+----+------+-----------+-----------------+-----+\n",
            "\n"
          ]
        }
      ],
      "source": [
        "data.describe().select(['Age', 'Sex', 'BP', 'Cholesterol', 'Na_to_K', 'Drug']).show()"
      ]
    },
    {
      "cell_type": "code",
      "execution_count": 7,
      "metadata": {
        "id": "fanKLgwMW6ZF"
      },
      "outputs": [],
      "source": [
        "#pysaprk.ml has many important libraries w.r.t ML\n",
        "#features package has many functions for feature processing\n",
        "#StringIndexer:this is used to convert string into number\n",
        "#string cannot be used as a dependent and independent varible in model\n",
        "#OneHotEncoder: will perform the one hot encoding on the numeric variable \n",
        "#VectorAssembler:will merge the different columns into single column\n",
        "#feature allows single column only thats why we use vector assembler"
      ]
    },
    {
      "cell_type": "markdown",
      "metadata": {
        "id": "EaKPs02e5tCq"
      },
      "source": [
        "#Data preprocessing for model building:"
      ]
    },
    {
      "cell_type": "code",
      "execution_count": 8,
      "metadata": {
        "id": "YFn-M0Xeb90s"
      },
      "outputs": [],
      "source": [
        "from pyspark.ml.feature import(VectorAssembler , StringIndexer,OneHotEncoder)\n",
        "# to install following libraries "
      ]
    },
    {
      "cell_type": "code",
      "execution_count": 9,
      "metadata": {
        "id": "AZS3pjkoqqNs"
      },
      "outputs": [],
      "source": [
        "# Converting categorical  to numerical variables :\n"
      ]
    },
    {
      "cell_type": "code",
      "execution_count": 10,
      "metadata": {
        "id": "_PJEchc0cBe2"
      },
      "outputs": [],
      "source": [
        "Sex_Indexer = StringIndexer(inputCol = 'Sex',outputCol='Sex_Indexed')\n",
        "Sex_Encoder = OneHotEncoder(inputCol = 'Sex_Indexed',outputCol = 'Sex_Encoder')"
      ]
    },
    {
      "cell_type": "code",
      "execution_count": 11,
      "metadata": {
        "id": "RMwDff5fdmiV"
      },
      "outputs": [],
      "source": [
        "BP_Indexer = StringIndexer(inputCol = 'BP',outputCol='BP_Indexed')\n",
        "BP_Encoder = OneHotEncoder(inputCol = 'BP_Indexed',outputCol = 'BP_Encoder')"
      ]
    },
    {
      "cell_type": "code",
      "execution_count": 12,
      "metadata": {
        "id": "RMSdY3k2u4ix"
      },
      "outputs": [],
      "source": [
        "Cholesterol_Indexer = StringIndexer(inputCol = 'Cholesterol',outputCol='Cholesterol_Indexed')\n",
        "Cholesterol_Encoder = OneHotEncoder(inputCol = 'Cholesterol_Indexed',outputCol = 'Cholesterol_Encoder')"
      ]
    },
    {
      "cell_type": "code",
      "execution_count": 13,
      "metadata": {
        "colab": {
          "base_uri": "https://localhost:8080/"
        },
        "id": "lxmh1uaftiSp",
        "outputId": "a5eb5813-4eb3-443e-e27f-c1fe971ede84"
      },
      "outputs": [
        {
          "name": "stdout",
          "output_type": "stream",
          "text": [
            "+---+---+------+-----------+-------+-----+------------+\n",
            "|Age|Sex|    BP|Cholesterol|Na_to_K| Drug|Drug_Indexed|\n",
            "+---+---+------+-----------+-------+-----+------------+\n",
            "| 23|  F|  HIGH|       HIGH| 25.355|DrugY|         0.0|\n",
            "| 47|  M|   LOW|       HIGH| 13.093|drugC|         4.0|\n",
            "| 47|  M|   LOW|       HIGH| 10.114|drugC|         4.0|\n",
            "| 28|  F|NORMAL|       HIGH|  7.798|drugX|         1.0|\n",
            "| 61|  F|   LOW|       HIGH| 18.043|DrugY|         0.0|\n",
            "| 22|  F|NORMAL|       HIGH|  8.607|drugX|         1.0|\n",
            "| 49|  F|NORMAL|       HIGH| 16.275|DrugY|         0.0|\n",
            "| 41|  M|   LOW|       HIGH| 11.037|drugC|         4.0|\n",
            "| 60|  M|NORMAL|       HIGH| 15.171|DrugY|         0.0|\n",
            "| 43|  M|   LOW|     NORMAL| 19.368|DrugY|         0.0|\n",
            "| 47|  F|   LOW|       HIGH| 11.767|drugC|         4.0|\n",
            "| 34|  F|  HIGH|     NORMAL| 19.199|DrugY|         0.0|\n",
            "| 43|  M|   LOW|       HIGH| 15.376|DrugY|         0.0|\n",
            "| 74|  F|   LOW|       HIGH| 20.942|DrugY|         0.0|\n",
            "| 50|  F|NORMAL|       HIGH| 12.703|drugX|         1.0|\n",
            "| 16|  F|  HIGH|     NORMAL| 15.516|DrugY|         0.0|\n",
            "| 69|  M|   LOW|     NORMAL| 11.455|drugX|         1.0|\n",
            "| 43|  M|  HIGH|       HIGH| 13.972|drugA|         2.0|\n",
            "| 23|  M|   LOW|       HIGH|  7.298|drugC|         4.0|\n",
            "| 32|  F|  HIGH|     NORMAL| 25.974|DrugY|         0.0|\n",
            "+---+---+------+-----------+-------+-----+------------+\n",
            "only showing top 20 rows\n",
            "\n"
          ]
        }
      ],
      "source": [
        "Drug_Indexer = StringIndexer(inputCol = 'Drug',outputCol='Drug_Indexed')\n",
        "indexed = Drug_Indexer.fit(data).transform(data)\n",
        "indexed.show()"
      ]
    },
    {
      "cell_type": "code",
      "execution_count": 14,
      "metadata": {
        "colab": {
          "base_uri": "https://localhost:8080/"
        },
        "id": "ttXxaxEovU0K",
        "outputId": "c9ea8a5f-7abb-4d26-f2fb-c1808f185c86"
      },
      "outputs": [
        {
          "name": "stdout",
          "output_type": "stream",
          "text": [
            "+---+---+------+-----------+-------+------------+\n",
            "|Age|Sex|    BP|Cholesterol|Na_to_K|Drug_Indexed|\n",
            "+---+---+------+-----------+-------+------------+\n",
            "| 23|  F|  HIGH|       HIGH| 25.355|         0.0|\n",
            "| 47|  M|   LOW|       HIGH| 13.093|         4.0|\n",
            "| 47|  M|   LOW|       HIGH| 10.114|         4.0|\n",
            "| 28|  F|NORMAL|       HIGH|  7.798|         1.0|\n",
            "| 61|  F|   LOW|       HIGH| 18.043|         0.0|\n",
            "| 22|  F|NORMAL|       HIGH|  8.607|         1.0|\n",
            "| 49|  F|NORMAL|       HIGH| 16.275|         0.0|\n",
            "| 41|  M|   LOW|       HIGH| 11.037|         4.0|\n",
            "| 60|  M|NORMAL|       HIGH| 15.171|         0.0|\n",
            "| 43|  M|   LOW|     NORMAL| 19.368|         0.0|\n",
            "| 47|  F|   LOW|       HIGH| 11.767|         4.0|\n",
            "| 34|  F|  HIGH|     NORMAL| 19.199|         0.0|\n",
            "| 43|  M|   LOW|       HIGH| 15.376|         0.0|\n",
            "| 74|  F|   LOW|       HIGH| 20.942|         0.0|\n",
            "| 50|  F|NORMAL|       HIGH| 12.703|         1.0|\n",
            "| 16|  F|  HIGH|     NORMAL| 15.516|         0.0|\n",
            "| 69|  M|   LOW|     NORMAL| 11.455|         1.0|\n",
            "| 43|  M|  HIGH|       HIGH| 13.972|         2.0|\n",
            "| 23|  M|   LOW|       HIGH|  7.298|         4.0|\n",
            "| 32|  F|  HIGH|     NORMAL| 25.974|         0.0|\n",
            "+---+---+------+-----------+-------+------------+\n",
            "only showing top 20 rows\n",
            "\n"
          ]
        }
      ],
      "source": [
        "final_df=indexed.drop(\"Drug\")\n",
        "final_df.show()"
      ]
    },
    {
      "cell_type": "code",
      "execution_count": 15,
      "metadata": {
        "colab": {
          "base_uri": "https://localhost:8080/"
        },
        "id": "qTRBuxtjvmIF",
        "outputId": "1c469e10-a665-471e-ff5e-6d6450561345"
      },
      "outputs": [
        {
          "name": "stdout",
          "output_type": "stream",
          "text": [
            "root\n",
            " |-- Age: integer (nullable = true)\n",
            " |-- Sex: string (nullable = true)\n",
            " |-- BP: string (nullable = true)\n",
            " |-- Cholesterol: string (nullable = true)\n",
            " |-- Na_to_K: double (nullable = true)\n",
            " |-- Drug_Indexed: double (nullable = false)\n",
            "\n"
          ]
        }
      ],
      "source": [
        "final_df.printSchema()\n"
      ]
    },
    {
      "cell_type": "code",
      "execution_count": 16,
      "metadata": {
        "id": "fh2CbW0PvzGO"
      },
      "outputs": [],
      "source": [
        "from pyspark.ml.feature import VectorAssembler\n",
        "# Combining all variables into a single feature:\n",
        "\n"
      ]
    },
    {
      "cell_type": "code",
      "execution_count": 17,
      "metadata": {
        "id": "CuJTR3HHdxPY"
      },
      "outputs": [],
      "source": [
        "Assembler =VectorAssembler(inputCols=['Age', 'Sex_Encoder','BP_Encoder', 'Cholesterol_Encoder', 'Na_to_K'],outputCol='Features')"
      ]
    },
    {
      "cell_type": "code",
      "execution_count": 18,
      "metadata": {
        "id": "_MRRet6xwObD"
      },
      "outputs": [],
      "source": [
        "from pyspark.ml.feature import StandardScaler\n",
        "# Standardizing the values:\n",
        "\n"
      ]
    },
    {
      "cell_type": "code",
      "execution_count": 19,
      "metadata": {
        "id": "mABH-HgfwVpg"
      },
      "outputs": [],
      "source": [
        "sc = StandardScaler(inputCol = \"Features\",outputCol = \"Standard_Features\")"
      ]
    },
    {
      "cell_type": "markdown",
      "metadata": {
        "id": "CB4168qr6oOd"
      },
      "source": [
        "#Model Building"
      ]
    },
    {
      "cell_type": "code",
      "execution_count": 20,
      "metadata": {
        "id": "-Rtn5vv_fzG_"
      },
      "outputs": [],
      "source": [
        "#Pipleline basically provides the steps to be followed \n",
        "#The stages should not be in string form because those are object variables\n",
        "from pyspark.ml import Pipeline\n",
        "from pyspark.ml.classification import(DecisionTreeClassifier,GBTClassifier,RandomForestClassifier)\n"
      ]
    },
    {
      "cell_type": "code",
      "execution_count": 21,
      "metadata": {
        "id": "4h7QELIdyFBd"
      },
      "outputs": [],
      "source": [
        "dtc = DecisionTreeClassifier(featuresCol=\"Standard_Features\",labelCol=\"Drug_Indexed\")\n",
        "#gbt = GBTClassifier(featuresCol=\"Standard_Features\",labelCol=\"Drug_Indexed\") \n",
        "#removing gbt since this is a multinomial classification problem. GBT only supports binary classification\n",
        "rfc = RandomForestClassifier(featuresCol=\"Standard_Features\",labelCol=\"Drug_Indexed\")"
      ]
    },
    {
      "cell_type": "code",
      "execution_count": 22,
      "metadata": {
        "id": "M7g7dDmgxyE4"
      },
      "outputs": [],
      "source": [
        "Pipeline_One = Pipeline(stages = [Sex_Indexer,Sex_Encoder,BP_Indexer,BP_Encoder,Cholesterol_Indexer,Cholesterol_Encoder,\n",
        "                                 Assembler,\n",
        "                                 sc,\n",
        "                                 dtc])"
      ]
    },
    {
      "cell_type": "code",
      "execution_count": 23,
      "metadata": {
        "id": "RNdrrIhF7JVJ"
      },
      "outputs": [],
      "source": [
        "Pipeline_Three = Pipeline(stages = [Sex_Indexer,Sex_Encoder,BP_Indexer,BP_Encoder,Cholesterol_Indexer,Cholesterol_Encoder, \n",
        "                                 Assembler,\n",
        "                                 sc,\n",
        "                                 rfc])"
      ]
    },
    {
      "cell_type": "code",
      "execution_count": 24,
      "metadata": {
        "id": "OYwXXi1Uf9r7"
      },
      "outputs": [],
      "source": [
        "#splitting if data is done here into 80% for training and 20% for testing\n",
        "train_dataset,test_dataset = final_df.randomSplit([0.8,0.2])\n"
      ]
    },
    {
      "cell_type": "code",
      "execution_count": 25,
      "metadata": {
        "id": "jZvIqQxXyvJZ"
      },
      "outputs": [],
      "source": [
        "dtc_model = Pipeline_One.fit(train_dataset)\n",
        "rfc_model = Pipeline_Three.fit(train_dataset)\n"
      ]
    },
    {
      "cell_type": "code",
      "execution_count": 26,
      "metadata": {
        "id": "3w67ibTt3feM"
      },
      "outputs": [],
      "source": [
        "dtc_result = dtc_model.transform(test_dataset)\n",
        "rfc_result = rfc_model.transform(test_dataset)"
      ]
    },
    {
      "cell_type": "markdown",
      "metadata": {
        "id": "f7zPVvZN4PKw"
      },
      "source": [
        "\n",
        "Model Evaluation:"
      ]
    },
    {
      "cell_type": "code",
      "execution_count": 27,
      "metadata": {
        "id": "G0vBVWcc4fA4"
      },
      "outputs": [],
      "source": [
        "from pyspark.ml.evaluation import MulticlassClassificationEvaluator\n"
      ]
    },
    {
      "cell_type": "code",
      "execution_count": 28,
      "metadata": {
        "id": "P2yAL0DL4mIw"
      },
      "outputs": [],
      "source": [
        "evaluation_metric = MulticlassClassificationEvaluator(predictionCol = 'prediction', labelCol = \"Drug_Indexed\")\n"
      ]
    },
    {
      "cell_type": "code",
      "execution_count": 29,
      "metadata": {
        "id": "8GnXpuND4rnl"
      },
      "outputs": [],
      "source": [
        "predictionAndTarget_dtc = dtc_model.transform(final_df).select(\"Drug_Indexed\", \"prediction\")\n",
        "predictionAndTarget_rfc = rfc_model.transform(final_df).select(\"Drug_Indexed\", \"prediction\")"
      ]
    },
    {
      "cell_type": "code",
      "execution_count": 30,
      "metadata": {
        "colab": {
          "base_uri": "https://localhost:8080/"
        },
        "id": "fOt9eOOu4zge",
        "outputId": "dd0d299d-33e1-44b8-e3a8-a7f628a49783"
      },
      "outputs": [
        {
          "name": "stdout",
          "output_type": "stream",
          "text": [
            "Accuracy score using DecisionTreeClassifier: 0.99\n",
            "Accuracy score using RandomForestClassifer: 0.99\n"
          ]
        }
      ],
      "source": [
        "print(\"Accuracy score using DecisionTreeClassifier: \"+str(evaluation_metric.evaluate(predictionAndTarget_dtc,\n",
        "{evaluation_metric.metricName: \"accuracy\"}))+\"\\nAccuracy score using RandomForestClassifer: \"\n",
        "+str(evaluation_metric.evaluate(predictionAndTarget_rfc,{evaluation_metric.metricName: \"accuracy\"})))"
      ]
    },
    {
      "cell_type": "code",
      "execution_count": 30,
      "metadata": {
        "id": "IdCO24WRgQ6j"
      },
      "outputs": [],
      "source": []
    }
  ],
  "metadata": {
    "colab": {
      "collapsed_sections": [],
      "name": "Yash-Rathore.ipynb",
      "provenance": []
    },
    "kernelspec": {
      "display_name": "Python 3",
      "name": "python3"
    },
    "language_info": {
      "name": "python"
    }
  },
  "nbformat": 4,
  "nbformat_minor": 0
}
